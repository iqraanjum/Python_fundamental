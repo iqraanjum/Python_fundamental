{
 "cells": [
  {
   "cell_type": "code",
   "execution_count": 1,
   "id": "dd864716",
   "metadata": {},
   "outputs": [],
   "source": [
    "cars = ['suzuki','maruthi','honda','kia','bmw','toyota','audi','benz']"
   ]
  },
  {
   "cell_type": "code",
   "execution_count": 2,
   "id": "618e5dd4",
   "metadata": {},
   "outputs": [
    {
     "name": "stdout",
     "output_type": "stream",
     "text": [
      "['suzuki', 'maruthi', 'honda', 'kia', 'bmw', 'toyota', 'audi', 'benz']\n"
     ]
    }
   ],
   "source": [
    "print(cars)"
   ]
  },
  {
   "cell_type": "code",
   "execution_count": 3,
   "id": "f6dc6c2c",
   "metadata": {},
   "outputs": [
    {
     "data": {
      "text/plain": [
       "list"
      ]
     },
     "execution_count": 3,
     "metadata": {},
     "output_type": "execute_result"
    }
   ],
   "source": [
    "type(cars)"
   ]
  },
  {
   "cell_type": "code",
   "execution_count": 7,
   "id": "bb4e7ca0",
   "metadata": {},
   "outputs": [
    {
     "name": "stdout",
     "output_type": "stream",
     "text": [
      "['audi', 'benz', 'bmw', 'honda', 'kia', 'maruthi', 'suzuki', 'toyota']\n"
     ]
    }
   ],
   "source": [
    "print(sorted(cars))    #organised in alphabetic order"
   ]
  },
  {
   "cell_type": "code",
   "execution_count": 8,
   "id": "d73a6773",
   "metadata": {},
   "outputs": [
    {
     "name": "stdout",
     "output_type": "stream",
     "text": [
      "['suzuki', 'maruthi', 'honda', 'kia', 'bmw', 'toyota', 'audi', 'benz']\n"
     ]
    }
   ],
   "source": [
    "print(cars)   #orginal order"
   ]
  },
  {
   "cell_type": "code",
   "execution_count": 9,
   "id": "213c575c",
   "metadata": {},
   "outputs": [],
   "source": [
    "cars.sort()    #permanently sorted"
   ]
  },
  {
   "cell_type": "code",
   "execution_count": 10,
   "id": "b7d3e6ef",
   "metadata": {},
   "outputs": [
    {
     "name": "stdout",
     "output_type": "stream",
     "text": [
      "['audi', 'benz', 'bmw', 'honda', 'kia', 'maruthi', 'suzuki', 'toyota']\n"
     ]
    }
   ],
   "source": [
    "print(cars)    #alphabetical permanent sorted order"
   ]
  },
  {
   "cell_type": "code",
   "execution_count": 11,
   "id": "8c498735",
   "metadata": {},
   "outputs": [],
   "source": [
    "cars.reverse()     #reverse alphabetic order z-a"
   ]
  },
  {
   "cell_type": "code",
   "execution_count": 12,
   "id": "839fedbd",
   "metadata": {},
   "outputs": [
    {
     "name": "stdout",
     "output_type": "stream",
     "text": [
      "['toyota', 'suzuki', 'maruthi', 'kia', 'honda', 'bmw', 'benz', 'audi']\n"
     ]
    }
   ],
   "source": [
    "print(cars)"
   ]
  },
  {
   "cell_type": "code",
   "execution_count": 13,
   "id": "f0dbda3c",
   "metadata": {},
   "outputs": [
    {
     "data": {
      "text/plain": [
       "8"
      ]
     },
     "execution_count": 13,
     "metadata": {},
     "output_type": "execute_result"
    }
   ],
   "source": [
    "len(cars)  #lenght of the list"
   ]
  },
  {
   "cell_type": "code",
   "execution_count": 14,
   "id": "fdfd6670",
   "metadata": {},
   "outputs": [],
   "source": [
    "students = ['aditi','sara','mounika','ramya','naveen','adil','kiran','david']"
   ]
  },
  {
   "cell_type": "code",
   "execution_count": 15,
   "id": "10ac8882",
   "metadata": {},
   "outputs": [
    {
     "name": "stdout",
     "output_type": "stream",
     "text": [
      "['aditi', 'sara', 'mounika', 'ramya', 'naveen', 'adil', 'kiran', 'david']\n"
     ]
    }
   ],
   "source": [
    "print(students)"
   ]
  },
  {
   "cell_type": "code",
   "execution_count": 16,
   "id": "42302ee1",
   "metadata": {},
   "outputs": [
    {
     "name": "stdout",
     "output_type": "stream",
     "text": [
      "['aditi']\n"
     ]
    }
   ],
   "source": [
    "print(students[0:1])      #to print aditi"
   ]
  },
  {
   "cell_type": "code",
   "execution_count": 17,
   "id": "9e851c3e",
   "metadata": {},
   "outputs": [
    {
     "name": "stdout",
     "output_type": "stream",
     "text": [
      "['aditi', 'sara']\n"
     ]
    }
   ],
   "source": [
    "print(students[0:2])      #to print aditi and sara \n",
    "#slicing(startvalue:stopvalue(stop value is exclusive so as per ule +1 is incremented to stop value))"
   ]
  },
  {
   "cell_type": "code",
   "execution_count": 19,
   "id": "6b2260c3",
   "metadata": {},
   "outputs": [
    {
     "name": "stdout",
     "output_type": "stream",
     "text": [
      "['mounika', 'ramya']\n"
     ]
    }
   ],
   "source": [
    "print(students[2:4])   #to print monika and ramya"
   ]
  },
  {
   "cell_type": "code",
   "execution_count": 20,
   "id": "df0710da",
   "metadata": {},
   "outputs": [
    {
     "name": "stdout",
     "output_type": "stream",
     "text": [
      "['aditi', 'mounika', 'naveen', 'kiran']\n"
     ]
    }
   ],
   "source": [
    "print(students[0:8:2])       #required alternative name\n",
    "#slicing(startvalue:stopvalue:step count)"
   ]
  },
  {
   "cell_type": "code",
   "execution_count": 21,
   "id": "8bd7cc2c",
   "metadata": {},
   "outputs": [
    {
     "name": "stdout",
     "output_type": "stream",
     "text": [
      "['aditi', 'ramya', 'kiran']\n"
     ]
    }
   ],
   "source": [
    "print(students[0:8:3])       #required third(3 gap name)"
   ]
  },
  {
   "cell_type": "code",
   "execution_count": 22,
   "id": "8bc19d11",
   "metadata": {},
   "outputs": [
    {
     "name": "stdout",
     "output_type": "stream",
     "text": [
      "['aditi', 'sara', 'mounika', 'ramya', 'naveen', 'adil', 'kiran', 'david']\n"
     ]
    }
   ],
   "source": [
    "print(students)"
   ]
  },
  {
   "cell_type": "code",
   "execution_count": 23,
   "id": "816b5dbf",
   "metadata": {},
   "outputs": [
    {
     "name": "stdout",
     "output_type": "stream",
     "text": [
      "david\n"
     ]
    }
   ],
   "source": [
    "print(students[-1])   #(negative index) reverse of list"
   ]
  },
  {
   "cell_type": "code",
   "execution_count": null,
   "id": "84f8c4cf",
   "metadata": {},
   "outputs": [],
   "source": []
  }
 ],
 "metadata": {
  "kernelspec": {
   "display_name": "Python 3 (ipykernel)",
   "language": "python",
   "name": "python3"
  },
  "language_info": {
   "codemirror_mode": {
    "name": "ipython",
    "version": 3
   },
   "file_extension": ".py",
   "mimetype": "text/x-python",
   "name": "python",
   "nbconvert_exporter": "python",
   "pygments_lexer": "ipython3",
   "version": "3.10.9"
  }
 },
 "nbformat": 4,
 "nbformat_minor": 5
}
