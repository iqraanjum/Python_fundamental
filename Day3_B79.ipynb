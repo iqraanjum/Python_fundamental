{
 "cells": [
  {
   "cell_type": "code",
   "execution_count": 1,
   "id": "e2fefcf0",
   "metadata": {},
   "outputs": [],
   "source": [
    "firstname = 'iqra'\n",
    "lastname = 'anjum'"
   ]
  },
  {
   "cell_type": "code",
   "execution_count": 9,
   "id": "febff646",
   "metadata": {},
   "outputs": [
    {
     "name": "stdout",
     "output_type": "stream",
     "text": [
      "iqra anjum\n"
     ]
    }
   ],
   "source": [
    "fullname = f\"{firstname} {lastname}\"\n",
    "print(fullname)                                                 #fullname"
   ]
  },
  {
   "cell_type": "code",
   "execution_count": 10,
   "id": "f97d6706",
   "metadata": {},
   "outputs": [
    {
     "name": "stdout",
     "output_type": "stream",
     "text": [
      "WEll DONE, iqra anjum\n"
     ]
    }
   ],
   "source": [
    "message = f\"WEll DONE, {fullname}\"                             #fullname with message\n",
    "print(message)"
   ]
  },
  {
   "cell_type": "code",
   "execution_count": 11,
   "id": "b334495f",
   "metadata": {},
   "outputs": [
    {
     "name": "stdout",
     "output_type": "stream",
     "text": [
      "WEll DONE, Iqra Anjum\n"
     ]
    }
   ],
   "source": [
    "message = f\"WEll DONE, {fullname.title()}\" \n",
    "print(message)                                              #fullname correct format with message "
   ]
  },
  {
   "cell_type": "code",
   "execution_count": 12,
   "id": "ddf15119",
   "metadata": {},
   "outputs": [
    {
     "name": "stdout",
     "output_type": "stream",
     "text": [
      "fav_lang:pythonjavacc++swiftjavascript\n"
     ]
    }
   ],
   "source": [
    "print(\"fav_lang:pythonjavacc++swiftjavascript\")             #no whitespace format usage"
   ]
  },
  {
   "cell_type": "code",
   "execution_count": 13,
   "id": "fa3f36a6",
   "metadata": {},
   "outputs": [
    {
     "name": "stdout",
     "output_type": "stream",
     "text": [
      "fav_lang:python\n",
      "java\n",
      "c\n",
      "c++\n",
      "swift\n",
      "javascript\n"
     ]
    }
   ],
   "source": [
    "print(\"fav_lang:python\\njava\\nc\\nc++\\nswift\\njavascript\")             #whitespace format usage with new line delimeter"
   ]
  },
  {
   "cell_type": "code",
   "execution_count": 15,
   "id": "4342f85d",
   "metadata": {},
   "outputs": [
    {
     "name": "stdout",
     "output_type": "stream",
     "text": [
      "fav_lang:python\n",
      "\tjava\n",
      "\tc\n",
      "\tc++\n",
      "\tswift\n",
      "\tjavascript\n"
     ]
    }
   ],
   "source": [
    "print(\"fav_lang:python\\n\\tjava\\n\\tc\\n\\tc++\\n\\tswift\\n\\tjavascript\")   #whitespace format usage with new line & tab delimeter"
   ]
  },
  {
   "cell_type": "code",
   "execution_count": 16,
   "id": "dc63b646",
   "metadata": {},
   "outputs": [
    {
     "name": "stdout",
     "output_type": "stream",
     "text": [
      "   python\n"
     ]
    }
   ],
   "source": [
    "language = '   python'\n",
    "print(language)                                     #gap/whitespace in left side"
   ]
  },
  {
   "cell_type": "code",
   "execution_count": 17,
   "id": "d72952b3",
   "metadata": {},
   "outputs": [
    {
     "name": "stdout",
     "output_type": "stream",
     "text": [
      "python   \n"
     ]
    }
   ],
   "source": [
    "language2 = 'python   '\n",
    "print(language2)                                     #gap/whitespace in right side"
   ]
  },
  {
   "cell_type": "code",
   "execution_count": 18,
   "id": "72502be3",
   "metadata": {},
   "outputs": [
    {
     "name": "stdout",
     "output_type": "stream",
     "text": [
      "   python   \n"
     ]
    }
   ],
   "source": [
    "language3 = '   python   '\n",
    "print(language3)                                     #gap/whitespace from both left &right side"
   ]
  },
  {
   "cell_type": "code",
   "execution_count": 19,
   "id": "3a84d3c1",
   "metadata": {},
   "outputs": [
    {
     "data": {
      "text/plain": [
       "'python'"
      ]
     },
     "execution_count": 19,
     "metadata": {},
     "output_type": "execute_result"
    }
   ],
   "source": [
    "language.lstrip()                                      #to remove gap/whitespace in left side"
   ]
  },
  {
   "cell_type": "code",
   "execution_count": 23,
   "id": "4353d3a2",
   "metadata": {},
   "outputs": [
    {
     "data": {
      "text/plain": [
       "'python'"
      ]
     },
     "execution_count": 23,
     "metadata": {},
     "output_type": "execute_result"
    }
   ],
   "source": [
    "language2.rstrip()                                      #to remove gap/whitespace in right side"
   ]
  },
  {
   "cell_type": "code",
   "execution_count": 24,
   "id": "8ab2130f",
   "metadata": {},
   "outputs": [
    {
     "data": {
      "text/plain": [
       "'python'"
      ]
     },
     "execution_count": 24,
     "metadata": {},
     "output_type": "execute_result"
    }
   ],
   "source": [
    "language3.strip()                                      #to remove gap/whitespace from both left & right side"
   ]
  },
  {
   "cell_type": "code",
   "execution_count": null,
   "id": "34721795",
   "metadata": {},
   "outputs": [],
   "source": []
  }
 ],
 "metadata": {
  "kernelspec": {
   "display_name": "Python 3 (ipykernel)",
   "language": "python",
   "name": "python3"
  },
  "language_info": {
   "codemirror_mode": {
    "name": "ipython",
    "version": 3
   },
   "file_extension": ".py",
   "mimetype": "text/x-python",
   "name": "python",
   "nbconvert_exporter": "python",
   "pygments_lexer": "ipython3",
   "version": "3.10.9"
  }
 },
 "nbformat": 4,
 "nbformat_minor": 5
}
