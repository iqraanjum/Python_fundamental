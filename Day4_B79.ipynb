{
 "cells": [
  {
   "cell_type": "code",
   "execution_count": 1,
   "id": "aaa0e871",
   "metadata": {},
   "outputs": [],
   "source": [
    "students = ['vinoth','ramya','ayesha','sara','david','naveen','ahmed']"
   ]
  },
  {
   "cell_type": "code",
   "execution_count": 2,
   "id": "60a834b3",
   "metadata": {},
   "outputs": [
    {
     "name": "stdout",
     "output_type": "stream",
     "text": [
      "['vinoth', 'ramya', 'ayesha', 'sara', 'david', 'naveen', 'ahmed']\n"
     ]
    }
   ],
   "source": [
    "print(students)"
   ]
  },
  {
   "cell_type": "code",
   "execution_count": 3,
   "id": "24f68df1",
   "metadata": {},
   "outputs": [
    {
     "data": {
      "text/plain": [
       "list"
      ]
     },
     "execution_count": 3,
     "metadata": {},
     "output_type": "execute_result"
    }
   ],
   "source": [
    "type(students)"
   ]
  },
  {
   "cell_type": "code",
   "execution_count": 4,
   "id": "303e4165",
   "metadata": {},
   "outputs": [
    {
     "name": "stdout",
     "output_type": "stream",
     "text": [
      "ramya\n"
     ]
    }
   ],
   "source": [
    "print(students[1])  #index start from 0 to access ramya name output"
   ]
  },
  {
   "cell_type": "code",
   "execution_count": 5,
   "id": "f474315e",
   "metadata": {},
   "outputs": [
    {
     "name": "stdout",
     "output_type": "stream",
     "text": [
      "Ramya\n"
     ]
    }
   ],
   "source": [
    "print(students[1].title())  #to access ramya name output in right format"
   ]
  },
  {
   "cell_type": "code",
   "execution_count": 6,
   "id": "3eafe3bf",
   "metadata": {},
   "outputs": [
    {
     "name": "stdout",
     "output_type": "stream",
     "text": [
      "Sara\n"
     ]
    }
   ],
   "source": [
    "print(students[3].title())  #to access sara name output in right format"
   ]
  },
  {
   "cell_type": "code",
   "execution_count": 7,
   "id": "ebc40ce5",
   "metadata": {},
   "outputs": [
    {
     "name": "stdout",
     "output_type": "stream",
     "text": [
      "['vinoth', 'ramya', 'ayesha', 'sara', 'david', 'naveen', 'ahmed']\n"
     ]
    }
   ],
   "source": [
    "print(students)"
   ]
  },
  {
   "cell_type": "code",
   "execution_count": 8,
   "id": "1e5bffce",
   "metadata": {},
   "outputs": [],
   "source": [
    "students.append('kunal')      #to add kunal to list"
   ]
  },
  {
   "cell_type": "code",
   "execution_count": 9,
   "id": "6793eab2",
   "metadata": {},
   "outputs": [
    {
     "name": "stdout",
     "output_type": "stream",
     "text": [
      "['vinoth', 'ramya', 'ayesha', 'sara', 'david', 'naveen', 'ahmed', 'kunal']\n"
     ]
    }
   ],
   "source": [
    "print(students)"
   ]
  },
  {
   "cell_type": "code",
   "execution_count": 10,
   "id": "6bebbdf3",
   "metadata": {},
   "outputs": [],
   "source": [
    "students.append('kalyani')      #to add kalyani to list"
   ]
  },
  {
   "cell_type": "code",
   "execution_count": 11,
   "id": "b6418d9a",
   "metadata": {},
   "outputs": [
    {
     "name": "stdout",
     "output_type": "stream",
     "text": [
      "['vinoth', 'ramya', 'ayesha', 'sara', 'david', 'naveen', 'ahmed', 'kunal', 'kalyani']\n"
     ]
    }
   ],
   "source": [
    "print(students)"
   ]
  },
  {
   "cell_type": "code",
   "execution_count": 12,
   "id": "706982ca",
   "metadata": {},
   "outputs": [],
   "source": [
    "students.insert(2,'firdous')         #adding firdous to second index"
   ]
  },
  {
   "cell_type": "code",
   "execution_count": 13,
   "id": "64f771f2",
   "metadata": {},
   "outputs": [
    {
     "name": "stdout",
     "output_type": "stream",
     "text": [
      "['vinoth', 'ramya', 'firdous', 'ayesha', 'sara', 'david', 'naveen', 'ahmed', 'kunal', 'kalyani']\n"
     ]
    }
   ],
   "source": [
    "print(students)"
   ]
  },
  {
   "cell_type": "code",
   "execution_count": 14,
   "id": "7dcea884",
   "metadata": {},
   "outputs": [
    {
     "name": "stdout",
     "output_type": "stream",
     "text": [
      "['vinoth', 'ramya', 'firdous', 'ayesha', 'sara', 'david', 'naveen', 'ahmed', 'kunal', 'kalyani']\n"
     ]
    }
   ],
   "source": [
    "print(students)"
   ]
  },
  {
   "cell_type": "code",
   "execution_count": 15,
   "id": "3154b204",
   "metadata": {},
   "outputs": [],
   "source": [
    "students[0] = 'vani'         #changing/replacing from vinoth to vani"
   ]
  },
  {
   "cell_type": "code",
   "execution_count": 16,
   "id": "f1c3d341",
   "metadata": {},
   "outputs": [
    {
     "name": "stdout",
     "output_type": "stream",
     "text": [
      "['vani', 'ramya', 'firdous', 'ayesha', 'sara', 'david', 'naveen', 'ahmed', 'kunal', 'kalyani']\n"
     ]
    }
   ],
   "source": [
    "print(students)"
   ]
  },
  {
   "cell_type": "code",
   "execution_count": 17,
   "id": "844149e9",
   "metadata": {},
   "outputs": [],
   "source": [
    "x = students.pop()      #pop function temp delete element, by default it wil delete last element"
   ]
  },
  {
   "cell_type": "code",
   "execution_count": 18,
   "id": "01a9bbb2",
   "metadata": {},
   "outputs": [
    {
     "name": "stdout",
     "output_type": "stream",
     "text": [
      "['vani', 'ramya', 'firdous', 'ayesha', 'sara', 'david', 'naveen', 'ahmed', 'kunal']\n"
     ]
    }
   ],
   "source": [
    "print(students)"
   ]
  },
  {
   "cell_type": "code",
   "execution_count": 19,
   "id": "8a1266b7",
   "metadata": {},
   "outputs": [
    {
     "name": "stdout",
     "output_type": "stream",
     "text": [
      "kalyani\n"
     ]
    }
   ],
   "source": [
    "print(x)          #retreiving pop value of X"
   ]
  },
  {
   "cell_type": "code",
   "execution_count": 20,
   "id": "725580f5",
   "metadata": {},
   "outputs": [],
   "source": [
    "y = students.pop(1)       #req:to delete ramya fom list"
   ]
  },
  {
   "cell_type": "code",
   "execution_count": 21,
   "id": "d615318d",
   "metadata": {},
   "outputs": [
    {
     "name": "stdout",
     "output_type": "stream",
     "text": [
      "ramya\n"
     ]
    }
   ],
   "source": [
    "print(y)"
   ]
  },
  {
   "cell_type": "code",
   "execution_count": 22,
   "id": "1796e334",
   "metadata": {},
   "outputs": [
    {
     "name": "stdout",
     "output_type": "stream",
     "text": [
      "['vani', 'firdous', 'ayesha', 'sara', 'david', 'naveen', 'ahmed', 'kunal']\n"
     ]
    }
   ],
   "source": [
    "print(students)        #ramya is removed from list"
   ]
  },
  {
   "cell_type": "code",
   "execution_count": 23,
   "id": "df668092",
   "metadata": {},
   "outputs": [],
   "source": [
    "del students[0]         #permanetly deleting vani"
   ]
  },
  {
   "cell_type": "code",
   "execution_count": 24,
   "id": "2ad4cc9e",
   "metadata": {},
   "outputs": [
    {
     "name": "stdout",
     "output_type": "stream",
     "text": [
      "['firdous', 'ayesha', 'sara', 'david', 'naveen', 'ahmed', 'kunal']\n"
     ]
    }
   ],
   "source": [
    "print(students)"
   ]
  },
  {
   "cell_type": "code",
   "execution_count": null,
   "id": "b79d4622",
   "metadata": {},
   "outputs": [],
   "source": []
  }
 ],
 "metadata": {
  "kernelspec": {
   "display_name": "Python 3 (ipykernel)",
   "language": "python",
   "name": "python3"
  },
  "language_info": {
   "codemirror_mode": {
    "name": "ipython",
    "version": 3
   },
   "file_extension": ".py",
   "mimetype": "text/x-python",
   "name": "python",
   "nbconvert_exporter": "python",
   "pygments_lexer": "ipython3",
   "version": "3.10.9"
  }
 },
 "nbformat": 4,
 "nbformat_minor": 5
}
